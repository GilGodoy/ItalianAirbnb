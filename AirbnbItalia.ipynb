{
 "cells": [
  {
   "cell_type": "code",
   "execution_count": 1,
   "id": "bf7b9f46-4427-4341-ad90-857b987fcfe8",
   "metadata": {},
   "outputs": [],
   "source": [
    "%reset -f"
   ]
  },
  {
   "cell_type": "code",
   "execution_count": 2,
   "id": "0acf5b9f-4e5e-4788-a514-f30baf4c492d",
   "metadata": {},
   "outputs": [
    {
     "name": "stdout",
     "output_type": "stream",
     "text": [
      "Note: you may need to restart the kernel to use updated packages.\n"
     ]
    }
   ],
   "source": [
    "pip install kagglehub -q"
   ]
  },
  {
   "cell_type": "code",
   "execution_count": 3,
   "id": "20b0bd00-6520-45e8-b6e2-51e090d61715",
   "metadata": {},
   "outputs": [
    {
     "name": "stderr",
     "output_type": "stream",
     "text": [
      "C:\\Users\\thamires.godoy\\AppData\\Local\\anaconda3\\envs\\primeiro\\Lib\\site-packages\\tqdm\\auto.py:21: TqdmWarning: IProgress not found. Please update jupyter and ipywidgets. See https://ipywidgets.readthedocs.io/en/stable/user_install.html\n",
      "  from .autonotebook import tqdm as notebook_tqdm\n"
     ]
    }
   ],
   "source": [
    "import pandas as pd\n",
    "import os\n",
    "import matplotlib.pyplot as plt\n",
    "import numpy as np\n",
    "import kagglehub"
   ]
  },
  {
   "cell_type": "code",
   "execution_count": 4,
   "id": "2200eca9-d167-4bc4-bf82-4876bb8f5b03",
   "metadata": {},
   "outputs": [],
   "source": [
    "import sys"
   ]
  },
  {
   "cell_type": "code",
   "execution_count": 5,
   "id": "8521c78c-e288-4943-a01e-9b91639d0ce5",
   "metadata": {},
   "outputs": [
    {
     "name": "stdout",
     "output_type": "stream",
     "text": [
      "C:\\Users\\thamires.godoy\\AppData\\Local\\anaconda3\\envs\\primeiro\\python.exe\n"
     ]
    }
   ],
   "source": [
    "print(sys.executable)"
   ]
  },
  {
   "cell_type": "markdown",
   "id": "3e2255f4-7186-4086-9815-c77f5fa906b5",
   "metadata": {},
   "source": [
    "# 1.Importar os dados"
   ]
  },
  {
   "cell_type": "raw",
   "id": "c9e807df-b60a-4d8f-9403-807e684de194",
   "metadata": {},
   "source": [
    "Sobre os dados: O dataset Italian Airbnb está disponível no Kaggle, e contém diversos arquivos no formato CSV e GeoJSON. Para este estudo, será utilizado exclusivamente o arquivo airbnb.csv."
   ]
  },
  {
   "cell_type": "code",
   "execution_count": 126,
   "id": "4524669d-23eb-423e-a606-9061a41c7c18",
   "metadata": {},
   "outputs": [
    {
     "name": "stdout",
     "output_type": "stream",
     "text": [
      "Caminho do conjunto de dados: C:\\Users\\thamires.godoy\\.cache\\kagglehub\\datasets\\salvatoremarcello\\italian-airbnb-dataset\\versions\\7\n"
     ]
    }
   ],
   "source": [
    "caminho = kagglehub.dataset_download(\"salvatoremarcello/italian-airbnb-dataset\")\n",
    "print(\"Caminho do conjunto de dados:\", caminho)"
   ]
  },
  {
   "cell_type": "code",
   "execution_count": 127,
   "id": "4d3ac166-4841-4a8e-b2d9-ec327f0c3ffd",
   "metadata": {},
   "outputs": [
    {
     "name": "stdout",
     "output_type": "stream",
     "text": [
      "                                  Nome dos Arquivos\n",
      "0                                        airbnb.csv\n",
      "1                   airbnb_italian_city_grouped.csv\n",
      "2          airbnb_italian_neighbourhood_grouped.csv\n",
      "3              airbnb_italy_city_neighbourhoods.csv\n",
      "4  airbnb_italy_city_neighbourhoods_geojson.geojson\n"
     ]
    }
   ],
   "source": [
    "arqvs = os.listdir(caminho)\n",
    "df = pd.DataFrame(arqvs, columns=['Nome dos Arquivos'])\n",
    "print(df)"
   ]
  },
  {
   "cell_type": "code",
   "execution_count": 128,
   "id": "ded2d925-0a10-4aee-908a-afdd22611fcf",
   "metadata": {},
   "outputs": [
    {
     "name": "stdin",
     "output_type": "stream",
     "text": [
      "Qual arquivo abrir?   airbnb.csv\n"
     ]
    },
    {
     "data": {
      "text/html": [
       "<div>\n",
       "<style scoped>\n",
       "    .dataframe tbody tr th:only-of-type {\n",
       "        vertical-align: middle;\n",
       "    }\n",
       "\n",
       "    .dataframe tbody tr th {\n",
       "        vertical-align: top;\n",
       "    }\n",
       "\n",
       "    .dataframe thead th {\n",
       "        text-align: right;\n",
       "    }\n",
       "</style>\n",
       "<table border=\"1\" class=\"dataframe\">\n",
       "  <thead>\n",
       "    <tr style=\"text-align: right;\">\n",
       "      <th></th>\n",
       "      <th>Listings id</th>\n",
       "      <th>Last year reviews</th>\n",
       "      <th>Host since</th>\n",
       "      <th>Host is superhost</th>\n",
       "      <th>Host number of listings</th>\n",
       "      <th>Neighbourhood</th>\n",
       "      <th>Beds number</th>\n",
       "      <th>Bedrooms number</th>\n",
       "      <th>Property type</th>\n",
       "      <th>Maximum allowed guests</th>\n",
       "      <th>...</th>\n",
       "      <th>Communication score</th>\n",
       "      <th>Location score</th>\n",
       "      <th>Value for money score</th>\n",
       "      <th>Reviews per month</th>\n",
       "      <th>City</th>\n",
       "      <th>Season</th>\n",
       "      <th>Bathrooms number</th>\n",
       "      <th>Bathrooms type</th>\n",
       "      <th>Coordinates</th>\n",
       "      <th>Date of scraping</th>\n",
       "    </tr>\n",
       "  </thead>\n",
       "  <tbody>\n",
       "    <tr>\n",
       "      <th>0</th>\n",
       "      <td>31840</td>\n",
       "      <td>6</td>\n",
       "      <td>2011-02-07</td>\n",
       "      <td>Host</td>\n",
       "      <td>44.0</td>\n",
       "      <td>Centro Storico</td>\n",
       "      <td>1.0</td>\n",
       "      <td>1.0</td>\n",
       "      <td>Private room</td>\n",
       "      <td>2</td>\n",
       "      <td>...</td>\n",
       "      <td>4.91</td>\n",
       "      <td>4.91</td>\n",
       "      <td>4.70</td>\n",
       "      <td>0.78</td>\n",
       "      <td>Firenze</td>\n",
       "      <td>Early Winter</td>\n",
       "      <td>1</td>\n",
       "      <td>private</td>\n",
       "      <td>43.77709, 11.25216</td>\n",
       "      <td>2024-12-15</td>\n",
       "    </tr>\n",
       "    <tr>\n",
       "      <th>1</th>\n",
       "      <td>222527</td>\n",
       "      <td>0</td>\n",
       "      <td>2011-07-11</td>\n",
       "      <td>Superhost</td>\n",
       "      <td>3.0</td>\n",
       "      <td>Rifredi</td>\n",
       "      <td>3.0</td>\n",
       "      <td>2.0</td>\n",
       "      <td>Entire home</td>\n",
       "      <td>4</td>\n",
       "      <td>...</td>\n",
       "      <td>4.96</td>\n",
       "      <td>4.60</td>\n",
       "      <td>4.86</td>\n",
       "      <td>1.92</td>\n",
       "      <td>Firenze</td>\n",
       "      <td>Early Winter</td>\n",
       "      <td>1</td>\n",
       "      <td>private</td>\n",
       "      <td>43.82005, 11.22004</td>\n",
       "      <td>2024-12-15</td>\n",
       "    </tr>\n",
       "    <tr>\n",
       "      <th>2</th>\n",
       "      <td>32120</td>\n",
       "      <td>6</td>\n",
       "      <td>2010-03-26</td>\n",
       "      <td>Host</td>\n",
       "      <td>1.0</td>\n",
       "      <td>Gavinana Galluzzo</td>\n",
       "      <td>1.0</td>\n",
       "      <td>1.0</td>\n",
       "      <td>Entire home</td>\n",
       "      <td>2</td>\n",
       "      <td>...</td>\n",
       "      <td>4.96</td>\n",
       "      <td>4.63</td>\n",
       "      <td>4.63</td>\n",
       "      <td>0.16</td>\n",
       "      <td>Firenze</td>\n",
       "      <td>Early Winter</td>\n",
       "      <td>1</td>\n",
       "      <td>private</td>\n",
       "      <td>43.76157, 11.27741</td>\n",
       "      <td>2024-12-15</td>\n",
       "    </tr>\n",
       "    <tr>\n",
       "      <th>3</th>\n",
       "      <td>224562</td>\n",
       "      <td>9</td>\n",
       "      <td>2011-09-16</td>\n",
       "      <td>Host</td>\n",
       "      <td>2.0</td>\n",
       "      <td>Centro Storico</td>\n",
       "      <td>1.0</td>\n",
       "      <td>1.0</td>\n",
       "      <td>Entire home</td>\n",
       "      <td>4</td>\n",
       "      <td>...</td>\n",
       "      <td>4.83</td>\n",
       "      <td>4.93</td>\n",
       "      <td>4.64</td>\n",
       "      <td>0.71</td>\n",
       "      <td>Firenze</td>\n",
       "      <td>Early Winter</td>\n",
       "      <td>1</td>\n",
       "      <td>private</td>\n",
       "      <td>43.772, 11.26142</td>\n",
       "      <td>2024-12-15</td>\n",
       "    </tr>\n",
       "    <tr>\n",
       "      <th>4</th>\n",
       "      <td>32180</td>\n",
       "      <td>11</td>\n",
       "      <td>2014-04-05</td>\n",
       "      <td>Superhost</td>\n",
       "      <td>1.0</td>\n",
       "      <td>Centro Storico</td>\n",
       "      <td>4.0</td>\n",
       "      <td>2.0</td>\n",
       "      <td>Entire home</td>\n",
       "      <td>4</td>\n",
       "      <td>...</td>\n",
       "      <td>4.71</td>\n",
       "      <td>4.81</td>\n",
       "      <td>4.84</td>\n",
       "      <td>0.21</td>\n",
       "      <td>Firenze</td>\n",
       "      <td>Early Winter</td>\n",
       "      <td>2</td>\n",
       "      <td>private</td>\n",
       "      <td>43.76832, 11.24348</td>\n",
       "      <td>2024-12-15</td>\n",
       "    </tr>\n",
       "  </tbody>\n",
       "</table>\n",
       "<p>5 rows × 26 columns</p>\n",
       "</div>"
      ],
      "text/plain": [
       "   Listings id  Last year reviews  Host since Host is superhost  \\\n",
       "0        31840                  6  2011-02-07              Host   \n",
       "1       222527                  0  2011-07-11         Superhost   \n",
       "2        32120                  6  2010-03-26              Host   \n",
       "3       224562                  9  2011-09-16              Host   \n",
       "4        32180                 11  2014-04-05         Superhost   \n",
       "\n",
       "   Host number of listings      Neighbourhood  Beds number  Bedrooms number  \\\n",
       "0                     44.0     Centro Storico          1.0              1.0   \n",
       "1                      3.0            Rifredi          3.0              2.0   \n",
       "2                      1.0  Gavinana Galluzzo          1.0              1.0   \n",
       "3                      2.0     Centro Storico          1.0              1.0   \n",
       "4                      1.0     Centro Storico          4.0              2.0   \n",
       "\n",
       "  Property type  Maximum allowed guests  ...  Communication score  \\\n",
       "0  Private room                       2  ...                 4.91   \n",
       "1   Entire home                       4  ...                 4.96   \n",
       "2   Entire home                       2  ...                 4.96   \n",
       "3   Entire home                       4  ...                 4.83   \n",
       "4   Entire home                       4  ...                 4.71   \n",
       "\n",
       "   Location score  Value for money score  Reviews per month     City  \\\n",
       "0            4.91                   4.70               0.78  Firenze   \n",
       "1            4.60                   4.86               1.92  Firenze   \n",
       "2            4.63                   4.63               0.16  Firenze   \n",
       "3            4.93                   4.64               0.71  Firenze   \n",
       "4            4.81                   4.84               0.21  Firenze   \n",
       "\n",
       "         Season  Bathrooms number  Bathrooms type         Coordinates  \\\n",
       "0  Early Winter                 1         private  43.77709, 11.25216   \n",
       "1  Early Winter                 1         private  43.82005, 11.22004   \n",
       "2  Early Winter                 1         private  43.76157, 11.27741   \n",
       "3  Early Winter                 1         private    43.772, 11.26142   \n",
       "4  Early Winter                 2         private  43.76832, 11.24348   \n",
       "\n",
       "   Date of scraping  \n",
       "0        2024-12-15  \n",
       "1        2024-12-15  \n",
       "2        2024-12-15  \n",
       "3        2024-12-15  \n",
       "4        2024-12-15  \n",
       "\n",
       "[5 rows x 26 columns]"
      ]
     },
     "execution_count": 128,
     "metadata": {},
     "output_type": "execute_result"
    }
   ],
   "source": [
    "# Explore os arquivos disponiveis\n",
    "arqv = input(\"Qual arquivo abrir?  \")\n",
    "arqv = caminho+'\\\\'+arqv\n",
    "df = pd.read_csv(arqv)\n",
    "df.head()\n",
    "#print(df.columns)"
   ]
  },
  {
   "cell_type": "markdown",
   "id": "58263555-2898-4d76-a20f-a85247e82671",
   "metadata": {},
   "source": [
    "# 2. Limpeza dos dados\n",
    "A partir daqui apenas o airbnb.csv será trabalhado."
   ]
  },
  {
   "cell_type": "code",
   "execution_count": 93,
   "id": "f2394bb6-62ac-4a93-af0c-7837fb188051",
   "metadata": {},
   "outputs": [],
   "source": [
    "# Transformando o nome dos atributos\n",
    "df.rename(columns={df.columns[0]: \"ID\"}, inplace=True)\n",
    "df.rename(columns={df.columns[1]: \"Quantidade_Comentários_Último_Ano\"}, inplace=True)\n",
    "df.rename(columns={df.columns[2]: \"Data_Inicio_Host\"}, inplace=True)\n",
    "df.rename(columns={df.columns[3]: \"SuperHost_ou_Host\"}, inplace=True)\n",
    "df.rename(columns={df.columns[4]: \"Quantidade_Propriedades_do_Host\"}, inplace=True)\n",
    "df.rename(columns={df.columns[5]: \"Bairros\"}, inplace=True)\n",
    "df.rename(columns={df.columns[6]: \"Quantidade_Camas\"}, inplace=True)\n",
    "df.rename(columns={df.columns[7]: \"Quantidade_Quartos\"}, inplace=True)\n",
    "df.rename(columns={df.columns[8]: \"Tipo_Propriedade\"}, inplace=True)\n",
    "df.rename(columns={df.columns[9]: \"Máximo_Hóspedes\"}, inplace=True)\n",
    "df.rename(columns={df.columns[10]: \"Preço\"}, inplace=True)\n",
    "df.rename(columns={df.columns[11]: \"Total_Comentários\"}, inplace=True)\n",
    "df.rename(columns={df.columns[12]: \"Avaliação\"}, inplace=True)\n",
    "df.rename(columns={df.columns[13]: \"Pontuação_Acurácia_Anúncio\"}, inplace=True)\n",
    "df.rename(columns={df.columns[14]: \"Pontuação_Limpeza\"}, inplace=True)\n",
    "df.rename(columns={df.columns[15]: \"Pontuação_CheckIn\"}, inplace=True)\n",
    "df.rename(columns={df.columns[16]: \"Pontuação_Comunicação\"}, inplace=True)\n",
    "df.rename(columns={df.columns[17]: \"Pontuação_Localização\"}, inplace=True)\n",
    "df.rename(columns={df.columns[18]: \"Pontuação_Custo_Benefício\"}, inplace=True)\n",
    "df.rename(columns={df.columns[19]: \"Avaliações_Mês\"}, inplace=True)\n",
    "df.rename(columns={df.columns[20]: \"Cidade\"}, inplace=True)\n",
    "df.rename(columns={df.columns[21]: \"Estação\"}, inplace=True)\n",
    "df.rename(columns={df.columns[22]: \"Quantidade_Banheiros\"}, inplace=True)\n",
    "df.rename(columns={df.columns[23]: \"Tipo_Banheiro\"}, inplace=True)\n",
    "df.rename(columns={df.columns[24]: \"Coordenadas\"}, inplace=True)\n",
    "df.rename(columns={df.columns[25]: \"Data_Raspagem\"}, inplace=True)"
   ]
  },
  {
   "cell_type": "code",
   "execution_count": 94,
   "id": "8e2107a8-989b-4796-a9c8-d1c964d777ee",
   "metadata": {},
   "outputs": [
    {
     "name": "stdout",
     "output_type": "stream",
     "text": [
      "<class 'pandas.core.frame.DataFrame'>\n",
      "RangeIndex: 282047 entries, 0 to 282046\n",
      "Data columns (total 26 columns):\n",
      " #   Column                             Non-Null Count   Dtype  \n",
      "---  ------                             --------------   -----  \n",
      " 0   ID                                 282047 non-null  int64  \n",
      " 1   Quantidade_Comentários_Último_Ano  282047 non-null  int64  \n",
      " 2   Data_Inicio_Host                   282047 non-null  object \n",
      " 3   SuperHost_ou_Host                  282047 non-null  object \n",
      " 4   Quantidade_Propriedades_do_Host    282047 non-null  float64\n",
      " 5   Bairros                            282047 non-null  object \n",
      " 6   Quantidade_Camas                   282047 non-null  float64\n",
      " 7   Quantidade_Quartos                 282047 non-null  float64\n",
      " 8   Tipo_Propriedade                   282047 non-null  object \n",
      " 9   Máximo_Hóspedes                    282047 non-null  int64  \n",
      " 10  Preço                              282047 non-null  float64\n",
      " 11  Total_Comentários                  282047 non-null  int64  \n",
      " 12  Avaliação                          282047 non-null  float64\n",
      " 13  Pontuação_Acurácia_Anúncio         282047 non-null  float64\n",
      " 14  Pontuação_Limpeza                  282047 non-null  float64\n",
      " 15  Pontuação_CheckIn                  282047 non-null  float64\n",
      " 16  Pontuação_Comunicação              282047 non-null  float64\n",
      " 17  Pontuação_Localização              282047 non-null  float64\n",
      " 18  Pontuação_Custo_Benefício          282047 non-null  float64\n",
      " 19  Avaliações_Mês                     282047 non-null  float64\n",
      " 20  Cidade                             282047 non-null  object \n",
      " 21  Estação                            282047 non-null  object \n",
      " 22  Quantidade_Banheiros               282047 non-null  int64  \n",
      " 23  Tipo_Banheiro                      282047 non-null  object \n",
      " 24  Coordenadas                        282047 non-null  object \n",
      " 25  Data_Raspagem                      282047 non-null  object \n",
      "dtypes: float64(12), int64(5), object(9)\n",
      "memory usage: 55.9+ MB\n",
      "None\n"
     ]
    }
   ],
   "source": [
    "# Verificando os tipos de dados e valores nulos\n",
    "print(df.info())"
   ]
  },
  {
   "cell_type": "raw",
   "id": "6ab89184-5642-4c9f-9a0a-a7f363dc9648",
   "metadata": {},
   "source": [
    "Pelo resultado verifica-se:\n",
    "1. Não há valores nulos, pois em todos os casos há 282047 valores não nulos\n",
    "2. ID deve ser string (object)\n",
    "3. Data_Inicio_Host tem que ser do tipo data e no formato d/m/y\n",
    "4. Verificar se há cidades escritas de forma errada\n",
    "5. Colocar o nome dos bairros com apenas a primeira maiuscula\n",
    "6. Traduzir para português: tipo de propriedade, estação do ano e tipo de banheiro\n",
    "7. Quantidade de camas e quartos deve ser int\n",
    "8. Excluir a data da raspagem e quantidades de propriedades do host, pois aparece com casas decimais"
   ]
  },
  {
   "cell_type": "code",
   "execution_count": 96,
   "id": "26b022cf-57d4-4dd0-9164-afe3e3505a84",
   "metadata": {},
   "outputs": [
    {
     "name": "stdout",
     "output_type": "stream",
     "text": [
      "object\n"
     ]
    }
   ],
   "source": [
    "# 2. ID deve ser strin(object)\n",
    "df.iloc[:,0]=df.iloc[:,0].astype(str)\n",
    "print((df.iloc[:,0]).dtype)\n",
    "\n",
    "# A primeira execução resulta no aviso: 'FutureWarning: Setting an item of incompatible dtype is deprecated and will raise in a future error of pandas'\n",
    "# Isso acontece pois o Pandas tenta preservar o tipo int64 da coluna original.\n",
    "# Na segunda execução, ele já considera os dados como object e permite a conversão sem avisos."
   ]
  },
  {
   "cell_type": "code",
   "execution_count": 97,
   "id": "188e5eea-95a0-47c8-b267-fec57dbf6b78",
   "metadata": {},
   "outputs": [],
   "source": [
    "# 3. Data_Inicio_Host tem que ser do tipo data e no formato d/m/y\n",
    "df['Data_Inicio_Host']=pd.to_datetime(df['Data_Inicio_Host']).dt.strftime('%d/%m/%Y')"
   ]
  },
  {
   "cell_type": "code",
   "execution_count": 98,
   "id": "8690d8fe-6fe0-4c19-b0c6-124395a99b24",
   "metadata": {},
   "outputs": [
    {
     "name": "stdout",
     "output_type": "stream",
     "text": [
      "['Firenze' 'Milano' 'Napoli' 'Roma' 'Venezia']\n",
      "['Florença' 'Milão' 'Nápoles' 'Roma' 'Veneza']\n"
     ]
    }
   ],
   "source": [
    "#4. Verificar se há cidades escritas de forma errada e transformar o nome para português\n",
    "print(df['Cidade'].unique())\n",
    "\n",
    "pt_cidades = {\n",
    "    'Firenze': 'Florença',\n",
    "    'Milano': 'Milão',\n",
    "    'Napoli': 'Nápoles',\n",
    "    'Roma': 'Roma',\n",
    "    'Venezia': 'Veneza'\n",
    "}\n",
    "\n",
    "df['Cidade'] = df['Cidade'].replace(pt_cidades)\n",
    "\n",
    "print(df['Cidade'].unique())"
   ]
  },
  {
   "cell_type": "code",
   "execution_count": 99,
   "id": "637d6b1a-f4be-43ac-a90e-6cc9ce68e580",
   "metadata": {},
   "outputs": [
    {
     "name": "stdout",
     "output_type": "stream",
     "text": [
      "['Centro Storico' 'Rifredi' 'Gavinana Galluzzo' 'Campo Di Marte'\n",
      " 'Isolotto Legnaia' 'Xxii Marzo' 'Tibaldi' 'Navigli' 'Ticinese'\n",
      " \"Citta' Studi\" 'Viale Monza' 'Buenos Aires - Venezia' 'Centrale'\n",
      " 'Magenta - S. Vittore' 'Duomo' 'Parco Lambro - Cimiano'\n",
      " 'Ronchetto Sul Naviglio' 'Brera' 'Washington' 'Tortona'\n",
      " 'Parco Forlanini - Ortica' 'Villapizzone' 'Guastalla' 'Stadera'\n",
      " 'S. Cristoforo' 'Sarpi' 'Bovisa' 'Giambellino' 'Loreto' 'Vigentina'\n",
      " 'Isola' 'Padova' 'Umbria - Molise' 'De Angeli - Monte Rosa' 'Bovisasca'\n",
      " 'Porta Romana' 'Garibaldi Repubblica' 'Lodi - Corvetto'\n",
      " \"Niguarda - Ca' Granda\" 'Gratosoglio - Ticinello' 'Bicocca'\n",
      " 'Forze Armate' 'Giardini Porta Venezia' 'Ripamonti' 'Bande Nere'\n",
      " 'Gallaratese' 'Pagano' 'Farini' 'Barona' 'Lambrate' 'Ghisolfa'\n",
      " 'Lorenteggio' 'Adriano' 'Ex Om - Morivione' 'Quinto Romano' 'Corsica'\n",
      " 'Affori' 'Greco' 'Selinunte' 'Dergano' 'Maciachini - Maggiolina'\n",
      " 'Ortomercato' 'S. Siro' 'Rogoredo' 'Mecenate' 'Quarto Oggiaro'\n",
      " 'Scalo Romana' 'Triulzo Superiore' 'Portello' 'Tre Torri' 'Qt 8' 'Baggio'\n",
      " 'Chiaravalle' 'Parco Sempione' 'Parco Bosco In Citt\\x85' 'Quarto Cagnino'\n",
      " 'Bruzzano' \"Parco Monlue' - Ponte Lambro\" 'Maggiore - Musocco' 'Comasina'\n",
      " 'Parco Dei Navigli' 'Cantalupa' 'Trenno' 'Figino' 'Parco Delle Abbazie'\n",
      " 'Parco Agricolo Sud' 'Quintosole' 'Muggiano' 'Parco Nord' 'Sacco'\n",
      " 'Ronchetto Delle Rane' 'Cascina Triulza - Expo' 'Stephenson'\n",
      " 'San Lorenzo' 'Chiaia' 'San Giuseppe' 'Vomero' 'Porto' 'Pendino'\n",
      " 'Montecalvario' 'San Ferdinando' 'Avvocata' 'Arenella' 'Posillipo'\n",
      " \"San Carlo All'Arena\" 'Stella' 'Zona Industriale' 'Fuorigrotta' 'Mercato'\n",
      " 'Ponticelli' 'Vicaria' 'Bagnoli' 'Chiaiano' 'Secondigliano' 'Pianura'\n",
      " 'San Pietro A Patierno' 'San Giovanni A Teduccio' 'Poggioreale'\n",
      " 'Piscinola' 'Barra' 'Soccavo' 'Miano' 'Scampia' 'Viii Appia Antica'\n",
      " 'I Centro Storico' 'Iii Monte Sacro' 'Ii Parioli/Nomentano'\n",
      " 'Vii San Giovanni/Cinecittà' 'Xiii Aurelia' 'V Prenestino/Centocelle'\n",
      " 'Xii Monte Verde' 'Iv Tiburtina' 'Xv Cassia/Flaminia'\n",
      " 'Vi Roma Delle Torri' 'X Ostia/Acilia' 'Xiv Monte Mario' 'Ix Eur'\n",
      " 'Xi Arvalia/Portuense' 'San Polo' 'Santa Croce' 'San Marco' 'Cannaregio'\n",
      " 'Dorsoduro' 'Giudecca' 'Castello' 'Favaro' 'Piave 1860'\n",
      " 'Villaggio San Marco' 'San Lorenzo Xxv Aprile' 'Tessera' 'Lido'\n",
      " 'Marghera' 'Santa Barbara' \"Sant'Elena\" 'Murano' 'Marghera Catene'\n",
      " 'Chirignago' 'Alberoni' 'Campalto' 'Pellestrina' 'Carpenedo' 'Cipressina'\n",
      " 'Bissuola' 'Burano' 'Aeroporto' \"Sant'Erasmo\" 'La Favorita' 'Gazzera'\n",
      " 'Altobello' 'Zona Commerciale Via Torino' 'Malamocco'\n",
      " 'Marghera Zona Industriale' 'Villabona' 'Torcello' 'Marocco Terraglio'\n",
      " 'Campalto Bagaron' 'Mazzorbo' 'Villaggio Sartori' \"Pra' Secco\"\n",
      " 'Gatta - Bondu?' 'Case Dosa' 'Campalto Cep' 'Tronchetto' \"Ca' Sabbioni\"\n",
      " 'Torre Antica' 'Quartiere Pertini' \"Ca' Emiliani\" 'Malcontenta'\n",
      " 'Zelarino' 'Campalto Gobbi' 'Sacca Fisola' 'Scaramuzza' 'Asseggiano'\n",
      " 'Giustizia' 'San Pietro In Volta']\n"
     ]
    }
   ],
   "source": [
    "#5. Colocar o nome dos bairros com apenas a primeira maiuscula\n",
    "df['Bairros'] = df['Bairros'].str.title()\n",
    "print(df['Bairros'].unique())"
   ]
  },
  {
   "cell_type": "code",
   "execution_count": 100,
   "id": "f2a01421-6905-4b9d-bc1a-8b55d7256a48",
   "metadata": {},
   "outputs": [
    {
     "name": "stdout",
     "output_type": "stream",
     "text": [
      "['Private room' 'Entire home' 'Hotel room' 'Shared room']\n",
      "['Quarto Privado' 'Casa Completa' 'Quarto de Hotel' 'Quarto Compartilhado']\n",
      "['Early Winter' 'Early Spring' 'Early Summer' 'Early Autumn']\n",
      "['Inverno' 'Primavera' 'Verão' 'Outono']\n",
      "['private' 'shared']\n",
      "['Privado' 'Compartilhado']\n"
     ]
    }
   ],
   "source": [
    "# 6. Traduzir para português: tipo de propriedade, estação do ano e tipo de banheiro\n",
    "# tipo de propriedade\n",
    "print(df['Tipo_Propriedade'].unique())\n",
    "\n",
    "pt_tipo_propriedade = {\n",
    "    'Private room': 'Quarto Privado',\n",
    "    'Entire home': 'Casa Completa',\n",
    "    'Hotel room': 'Quarto de Hotel',\n",
    "    'Shared room': 'Quarto Compartilhado'\n",
    "}\n",
    "\n",
    "df['Tipo_Propriedade'] = df['Tipo_Propriedade'].replace(pt_tipo_propriedade)\n",
    "\n",
    "print(df['Tipo_Propriedade'].unique())\n",
    "\n",
    "# estação do ano\n",
    "print(df['Estação'].unique())\n",
    "\n",
    "pt_estacao = {\n",
    "   'Early Winter': 'Inverno',\n",
    "   'Early Spring': 'Primavera',\n",
    "   'Early Summer': 'Verão',\n",
    "   'Early Autumn': 'Outono'\n",
    "}\n",
    "\n",
    "df['Estação'] = df['Estação'].replace(pt_estacao)\n",
    "\n",
    "print(df['Estação'].unique())\n",
    "\n",
    "# tipo de banheiro\n",
    "print(df['Tipo_Banheiro'].unique())\n",
    "\n",
    "pt_banheiro = {\n",
    "   'private': 'Privado',\n",
    "   'shared': 'Compartilhado',\n",
    "}\n",
    "\n",
    "df['Tipo_Banheiro'] = df['Tipo_Banheiro'].replace(pt_banheiro)\n",
    "\n",
    "print(df['Tipo_Banheiro'].unique())"
   ]
  },
  {
   "cell_type": "code",
   "execution_count": 101,
   "id": "5786ca67-797c-4c6b-9a0c-4a071a4bd065",
   "metadata": {},
   "outputs": [
    {
     "name": "stdout",
     "output_type": "stream",
     "text": [
      "int32\n",
      "int32\n"
     ]
    }
   ],
   "source": [
    "# 7. Quantidade de camas e quartos deve ser int\n",
    "df['Quantidade_Camas'] = df['Quantidade_Camas'].astype(int)\n",
    "df['Quantidade_Quartos'] = df['Quantidade_Quartos'].astype(int)\n",
    "\n",
    "print(df['Quantidade_Camas'].dtype)\n",
    "print(df['Quantidade_Quartos'].dtype)"
   ]
  },
  {
   "cell_type": "code",
   "execution_count": 102,
   "id": "281e3885-04c3-4dad-a3d7-ad66cd96083e",
   "metadata": {},
   "outputs": [],
   "source": [
    "# 8. Excluir data da raspagem\n",
    "df = df.drop('Data_Raspagem', axis=1)\n",
    "df = df.drop('Quantidade_Propriedades_do_Host', axis=1)"
   ]
  },
  {
   "cell_type": "code",
   "execution_count": 103,
   "id": "59f605e9-aa52-4110-a6a3-81f22a5c6eb7",
   "metadata": {},
   "outputs": [
    {
     "name": "stdout",
     "output_type": "stream",
     "text": [
      "       Quantidade_Comentários_Último_Ano  Quantidade_Camas  \\\n",
      "count                      282047.000000     282047.000000   \n",
      "mean                           17.187639          2.050325   \n",
      "std                            22.029768          1.300188   \n",
      "min                             0.000000          0.000000   \n",
      "25%                             2.000000          1.000000   \n",
      "50%                             8.000000          2.000000   \n",
      "75%                            26.000000          3.000000   \n",
      "max                           926.000000         10.000000   \n",
      "\n",
      "       Quantidade_Quartos  Máximo_Hóspedes          Preço  Total_Comentários  \\\n",
      "count       282047.000000    282047.000000  282047.000000      282047.000000   \n",
      "mean             1.381422         3.604658     173.157004          61.116112   \n",
      "std              0.730077         1.804754     736.260971          97.325177   \n",
      "min              0.000000         1.000000       8.000000           1.000000   \n",
      "25%              1.000000         2.000000      85.000000           6.000000   \n",
      "50%              1.000000         4.000000     120.000000          22.000000   \n",
      "75%              2.000000         4.000000     174.000000          72.000000   \n",
      "max             10.000000        16.000000   95195.000000        2479.000000   \n",
      "\n",
      "           Avaliação  Pontuação_Acurácia_Anúncio  Pontuação_Limpeza  \\\n",
      "count  282047.000000               282047.000000      282047.000000   \n",
      "mean        4.721083                    4.769382           4.744537   \n",
      "std         0.386492                    0.361869           0.380168   \n",
      "min         0.000000                    0.000000           0.000000   \n",
      "25%         4.630000                    4.710000           4.670000   \n",
      "50%         4.830000                    4.870000           4.860000   \n",
      "75%         4.960000                    4.980000           4.990000   \n",
      "max         5.000000                    5.000000           5.000000   \n",
      "\n",
      "       Pontuação_CheckIn  Pontuação_Comunicação  Pontuação_Localização  \\\n",
      "count      282047.000000          282047.000000          282047.000000   \n",
      "mean            4.809686               4.823221               4.743698   \n",
      "std             0.338005               0.341393               0.339830   \n",
      "min             0.000000               0.000000               0.000000   \n",
      "25%             4.770000               4.800000               4.650000   \n",
      "50%             4.910000               4.930000               4.850000   \n",
      "75%             5.000000               5.000000               4.970000   \n",
      "max             5.000000               5.000000               5.000000   \n",
      "\n",
      "       Pontuação_Custo_Benefício  Avaliações_Mês  Quantidade_Banheiros  \n",
      "count              282047.000000   282047.000000         282047.000000  \n",
      "mean                    4.635770        1.709110              1.268292  \n",
      "std                     0.416751        1.810309              0.592222  \n",
      "min                     0.000000        0.010000              0.000000  \n",
      "25%                     4.530000        0.370000              1.000000  \n",
      "50%                     4.740000        1.090000              1.000000  \n",
      "75%                     4.880000        2.500000              1.000000  \n",
      "max                     5.000000       64.550000             10.000000  \n"
     ]
    }
   ],
   "source": [
    "#Verificando estatisticas para os dados numéricos\n",
    "print(df.describe())"
   ]
  },
  {
   "cell_type": "raw",
   "id": "bff6be99-d0ef-434a-b82f-19be3a67b4f4",
   "metadata": {},
   "source": [
    "Vemos que há valores 0 em itens que não caberiam essa dado, como por exemplo: 0 camas, 0 banheiros e 0 quartos"
   ]
  },
  {
   "cell_type": "code",
   "execution_count": 104,
   "id": "7e55451a-b70f-464d-ac23-b76b1395f39b",
   "metadata": {},
   "outputs": [],
   "source": [
    "# Exclusão de registros que possuem 0 camas, banheiros ou quartos\n",
    "df = df.drop(df[(df['Quantidade_Camas'] == 0) | (df['Quantidade_Quartos'] == 0)|(df['Quantidade_Banheiros'] == 0)].index)"
   ]
  },
  {
   "cell_type": "code",
   "execution_count": 105,
   "id": "a75cd530-d870-46f2-8c9b-7c394881fbda",
   "metadata": {},
   "outputs": [
    {
     "name": "stdout",
     "output_type": "stream",
     "text": [
      "<class 'pandas.core.frame.DataFrame'>\n",
      "Index: 263776 entries, 0 to 282046\n",
      "Data columns (total 24 columns):\n",
      " #   Column                             Non-Null Count   Dtype  \n",
      "---  ------                             --------------   -----  \n",
      " 0   ID                                 263776 non-null  object \n",
      " 1   Quantidade_Comentários_Último_Ano  263776 non-null  int64  \n",
      " 2   Data_Inicio_Host                   263776 non-null  object \n",
      " 3   SuperHost_ou_Host                  263776 non-null  object \n",
      " 4   Bairros                            263776 non-null  object \n",
      " 5   Quantidade_Camas                   263776 non-null  int32  \n",
      " 6   Quantidade_Quartos                 263776 non-null  int32  \n",
      " 7   Tipo_Propriedade                   263776 non-null  object \n",
      " 8   Máximo_Hóspedes                    263776 non-null  int64  \n",
      " 9   Preço                              263776 non-null  float64\n",
      " 10  Total_Comentários                  263776 non-null  int64  \n",
      " 11  Avaliação                          263776 non-null  float64\n",
      " 12  Pontuação_Acurácia_Anúncio         263776 non-null  float64\n",
      " 13  Pontuação_Limpeza                  263776 non-null  float64\n",
      " 14  Pontuação_CheckIn                  263776 non-null  float64\n",
      " 15  Pontuação_Comunicação              263776 non-null  float64\n",
      " 16  Pontuação_Localização              263776 non-null  float64\n",
      " 17  Pontuação_Custo_Benefício          263776 non-null  float64\n",
      " 18  Avaliações_Mês                     263776 non-null  float64\n",
      " 19  Cidade                             263776 non-null  object \n",
      " 20  Estação                            263776 non-null  object \n",
      " 21  Quantidade_Banheiros               263776 non-null  int64  \n",
      " 22  Tipo_Banheiro                      263776 non-null  object \n",
      " 23  Coordenadas                        263776 non-null  object \n",
      "dtypes: float64(9), int32(2), int64(4), object(9)\n",
      "memory usage: 48.3+ MB\n",
      "None\n"
     ]
    }
   ],
   "source": [
    "print(df.info())"
   ]
  },
  {
   "cell_type": "raw",
   "id": "f4781f7d-1f0f-46ad-96cb-a714e15a2dba",
   "metadata": {},
   "source": [
    "Com os dados limpos percebemos que:\n",
    "1. O uso da memória reduziu de 55.9 para 50.3\n",
    "2. A quantidade de colunas reduziu de 26 para 25\n",
    "3. O df tem 263776 linhas e possui um índice com valores de 0 até 282046, mas não todas as linhas estão sendo usadas"
   ]
  },
  {
   "cell_type": "markdown",
   "id": "0ee50f42-46fd-4150-a08c-149d896aa10c",
   "metadata": {},
   "source": [
    "# 3. Análise dos Dados\n",
    "Nessa etapas queremos responder algumas perguntas."
   ]
  },
  {
   "cell_type": "raw",
   "id": "935af027-5eb4-47b0-a078-e17c33cb6dbb",
   "metadata": {},
   "source": [
    "1. Qual a pontuação média de cada um dos itens avaliativos de um superhost? Isso varia quantos pontos?\n",
    "2. Comparar as pontuações de um SuperHost com um Host.\n",
    "3. Qual o ano que mais recebeu anfitriões que se tornaram SuperHost?\n",
    "4. Selecione a cidade, bairro, época do ano qual, divididos por quartil de preço: quantos superhost tem em cada quartil?\n",
    "5. Qual a variação de preços em cada cidade?\n",
    "6. Dentro da cidade que mais tem airbnb: há algum bairro em que o valor seja muito alto ou muito baixo?\n",
    "7. Plote a varição da cidade que mais tem airbnb ao longo das estações.\n",
    "8. Considerando o tipo de propriedade como o skewnee e a kutorsi ficam para os 4 tipos dentro da cidade que mais tem prorpeidade e como interpretar isso?"
   ]
  },
  {
   "cell_type": "code",
   "execution_count": 106,
   "id": "f4c9dfb7-9a97-4529-a095-d8fc55b61409",
   "metadata": {},
   "outputs": [],
   "source": [
    "###### 1. Qual a pontuação média de cada um dos itens avaliativos de um superhost? Isso varia quantos pontos?\n",
    "\n",
    "def media_SuperHost():\n",
    "    print(\"Essa função mostra a média das pontuações dos SuperHost\")\n",
    "    x = input(\"Selecione um numero:\\n 1-Acurácia do Anúncio\\n 2-Limpeza\\n 3-Check-in\\n 4-Comunicação\\n 5-Localização\\n 6-Custo Benefício\\n\")\n",
    "    df_sh = df[df[\"SuperHost_ou_Host\"] == \"Superhost\"]\n",
    "\n",
    "\n",
    "    match x:\n",
    "        case \"1\":\n",
    "            y = round(df_sh[\"Pontuação_Acurácia_Anúncio\"].mean(),3)\n",
    "            z = df_sh[\"Pontuação_Acurácia_Anúncio\"].max() - df_sh[\"Pontuação_Acurácia_Anúncio\"].min()\n",
    "        case \"2\":\n",
    "            y = round(df_sh[\"Pontuação_Limpeza\"].mean(),3)\n",
    "            z = df_sh[\"Pontuação_Limpeza\"].max() - df_sh[\"Pontuação_Limpeza\"].min()\n",
    "        case \"3\":\n",
    "            y = round(df_sh[\"Pontuação_CheckIn\"].mean(),3)\n",
    "            z = df_sh[\"Pontuação_CheckIn\"].max() - df_sh[\"Pontuação_CheckIn\"].min()\n",
    "        case \"4\":\n",
    "            y = round(df_sh[\"Pontuação_Comunicação\"].mean(),3)\n",
    "            z = df_sh[\"Pontuação_Comunicação\"].max() - df_sh[\"Pontuação_Comunicação\"].min()\n",
    "        case \"5\":\n",
    "            y = round(df_sh[\"Pontuação_Localização\"].mean(),3)\n",
    "            z = df_sh[\"Pontuação_Localização\"].max() - df_sh[\"Pontuação_Localização\"].min()\n",
    "        case \"6\":\n",
    "            y = round(df_sh[\"Pontuação_Custo_Benefício\"].mean(),3)\n",
    "            z = df_sh[\"Pontuação_Custo_Benefício\"].max() - df_sh[\"Pontuação_Custo_Benefício\"].min()\n",
    "    return y, z"
   ]
  },
  {
   "cell_type": "code",
   "execution_count": 107,
   "id": "2cae3fa1-6860-4017-a5d2-37b0cb0a5f21",
   "metadata": {},
   "outputs": [
    {
     "name": "stdout",
     "output_type": "stream",
     "text": [
      "Essa função mostra a média das pontuações dos SuperHost\n"
     ]
    },
    {
     "name": "stdin",
     "output_type": "stream",
     "text": [
      "Selecione um numero:\n",
      " 1-Acurácia do Anúncio\n",
      " 2-Limpeza\n",
      " 3-Check-in\n",
      " 4-Comunicação\n",
      " 5-Localização\n",
      " 6-Custo Benefício\n",
      " 4\n"
     ]
    },
    {
     "data": {
      "text/plain": [
       "(4.926, 4.0)"
      ]
     },
     "execution_count": 107,
     "metadata": {},
     "output_type": "execute_result"
    }
   ],
   "source": [
    "media_SuperHost()"
   ]
  },
  {
   "cell_type": "markdown",
   "id": "dec8c4b5-a106-4b94-974d-2cd8eb2e3610",
   "metadata": {},
   "source": [
    "Observa-se que a média está próxima do valor máximo (5), mas todas as pontuações apresentam uma variação de 4 pontos. Isso sugere que o histograma desses dados pode apresentar uma assimetria negativa. Vamos conferir!"
   ]
  },
  {
   "cell_type": "code",
   "execution_count": 108,
   "id": "643b2406-3929-45d8-b399-29017f1720c8",
   "metadata": {},
   "outputs": [
    {
     "name": "stdout",
     "output_type": "stream",
     "text": [
      "Essa função mostra a distribuição das pontuações dos SuperHost\n"
     ]
    },
    {
     "name": "stdin",
     "output_type": "stream",
     "text": [
      "Selecione um numero:\n",
      " 1-Acurácia do Anúncio\n",
      " 2-Limpeza\n",
      " 3-Check-in\n",
      " 4-Comunicação\n",
      " 5-Localização\n",
      " 6-Custo Benefício\n",
      " 4\n"
     ]
    },
    {
     "data": {
      "image/png": "[encoded data removed]",
      "text/plain": [
       "<Figure size 640x480 with 1 Axes>"
      ]
     },
     "metadata": {},
     "output_type": "display_data"
    }
   ],
   "source": [
    "def dist_SuperHost():\n",
    "    print(\"Essa função mostra a distribuição das pontuações dos SuperHost\")\n",
    "    x = input(\"Selecione um numero:\\n 1-Acurácia do Anúncio\\n 2-Limpeza\\n 3-Check-in\\n 4-Comunicação\\n 5-Localização\\n 6-Custo Benefício\\n\")\n",
    "    df_sh = df[df[\"SuperHost_ou_Host\"] == \"Superhost\"]\n",
    "\n",
    "\n",
    "    match x:\n",
    "        case \"1\":\n",
    "            freq = df_sh[\"Pontuação_Acurácia_Anúncio\"].value_counts().sort_index()\n",
    "            plt.plot(freq.index, freq.values, linestyle='-')\n",
    "        case \"2\":\n",
    "            freq = df_sh[\"Pontuação_Limpeza\"].value_counts().sort_index()\n",
    "            plt.plot(freq.index, freq.values, linestyle='-')\n",
    "        case \"3\":\n",
    "            freq = df_sh[\"Pontuação_CheckIn\"].value_counts().sort_index()\n",
    "            plt.plot(freq.index, freq.values, linestyle='-')\n",
    "        case \"4\":\n",
    "            freq = df_sh[\"Pontuação_Comunicação\"].value_counts().sort_index()\n",
    "            plt.plot(freq.index, freq.values, linestyle='-')\n",
    "        case \"5\":\n",
    "            freq = df_sh[\"Pontuação_Localização\"].value_counts().sort_index()\n",
    "            plt.plot(freq.index, freq.values, linestyle='-')\n",
    "        case \"6\":\n",
    "            freq = df_sh[\"Pontuação_Custo_Benefício\"].value_counts().sort_index()\n",
    "            plt.plot(freq.index, freq.values, linestyle='-')\n",
    "    return\n",
    "\n",
    "dist_SuperHost()"
   ]
  },
  {
   "cell_type": "code",
   "execution_count": 110,
   "id": "b01d79c3-90b0-407b-90d3-ab91ffe1578a",
   "metadata": {},
   "outputs": [
    {
     "data": {
      "image/png": "[encoded data removed]",
      "text/plain": [
       "<Figure size 800x400 with 1 Axes>"
      ]
     },
     "metadata": {},
     "output_type": "display_data"
    }
   ],
   "source": [
    "# 2. Comparar as pontuações de um SuperHost com um Host.\n",
    "\n",
    "df_sh = df[df[\"SuperHost_ou_Host\"] == \"Superhost\"]\n",
    "df_h = df[df[\"SuperHost_ou_Host\"] == \"Host\"]\n",
    "\n",
    "medias_df_sh = [df_sh[\"Pontuação_Acurácia_Anúncio\"].mean(),\n",
    "                   df_sh[\"Pontuação_Limpeza\"].mean(),\n",
    "                   df_sh[\"Pontuação_CheckIn\"].mean(),\n",
    "                   df_sh[\"Pontuação_Comunicação\"].mean(),\n",
    "                   df_sh[\"Pontuação_Localização\"].mean(),\n",
    "                   df_sh[\"Pontuação_Custo_Benefício\"].mean()] \n",
    "medias_df_h = [df_h[\"Pontuação_Acurácia_Anúncio\"].mean(),\n",
    "                  df_h[\"Pontuação_Limpeza\"].mean(),\n",
    "                  df_h[\"Pontuação_CheckIn\"].mean(),\n",
    "                  df_h[\"Pontuação_Comunicação\"].mean(),\n",
    "                  df_h[\"Pontuação_Localização\"].mean(),\n",
    "                  df_h[\"Pontuação_Custo_Benefício\"].mean()]\n",
    "\n",
    "rotulos = [\"Acurácia do Anúncio\", \"Limpeza\", \"Check-in\",\n",
    "          \"Comunicação\", \"Localização\", \"Custo Benefício\"]\n",
    "\n",
    "\n",
    "plt.figure(figsize=(8,4))\n",
    "plt.plot(rotulos,medias_df_sh)\n",
    "plt.plot(rotulos,medias_df_h)\n",
    "plt.title(\"Comparação das Médias das Pontuações: SuperHost X Host\")\n",
    "plt.xticks(rotation=30)\n",
    "plt.tight_layout()\n",
    "plt.grid(axis='y')\n",
    "plt.ylim(4.5, 5.0)\n",
    "\n",
    "for i, label in enumerate(rotulos):\n",
    "    plt.text(i, medias_df_sh[i]+0.005, f\"{medias_df_sh[i]:.2f}\", \n",
    "             ha='center', va='bottom', fontsize=8, color='blue')\n",
    "    plt.text(i, medias_df_h[i]+0.007, f\"{medias_df_h[i]:.2f}\", \n",
    "             ha='center', va='bottom', fontsize=8, color='orange')"
   ]
  },
  {
   "cell_type": "raw",
   "id": "68822996-1111-4292-bbe9-995953681e56",
   "metadata": {},
   "source": [
    "A análise do gráfico permite algumas conclusões:  \n",
    "\n",
    "1. A linha que representa a média das pontuações do Host segue um padrão semelhante ao do SuperHost.  \n",
    "2. A métrica de comunicação apresenta, em média, os valores mais altos.  \n",
    "3. Embora seja esperado que as pontuações dos SuperHosts sejam mais altas, ao sobrepormos as linhas podemos identificar melhor quais métricas apresentam maior diferença entre os dois tipos de anfitrião."
   ]
  },
  {
   "cell_type": "code",
   "execution_count": 112,
   "id": "979ee8f8-7f2c-4154-a82a-1cfb470f28b2",
   "metadata": {},
   "outputs": [
    {
     "data": {
      "image/png": "[encoded data removed]",
      "text/plain": [
       "<Figure size 800x400 with 1 Axes>"
      ]
     },
     "metadata": {},
     "output_type": "display_data"
    }
   ],
   "source": [
    "df_sh = df[df[\"SuperHost_ou_Host\"] == \"Superhost\"]\n",
    "df_h = df[df[\"SuperHost_ou_Host\"] == \"Host\"]\n",
    "\n",
    "medias_df_sh = [df_sh[\"Pontuação_Acurácia_Anúncio\"].mean(),\n",
    "                   df_sh[\"Pontuação_Limpeza\"].mean(),\n",
    "                   df_sh[\"Pontuação_CheckIn\"].mean(),\n",
    "                   df_sh[\"Pontuação_Comunicação\"].mean(),\n",
    "                   df_sh[\"Pontuação_Localização\"].mean(),\n",
    "                   df_sh[\"Pontuação_Custo_Benefício\"].mean()] \n",
    "medias_df_h = [df_h[\"Pontuação_Acurácia_Anúncio\"].mean(),\n",
    "                  df_h[\"Pontuação_Limpeza\"].mean(),\n",
    "                  df_h[\"Pontuação_CheckIn\"].mean(),\n",
    "                  df_h[\"Pontuação_Comunicação\"].mean(),\n",
    "                  df_h[\"Pontuação_Localização\"].mean(),\n",
    "                  df_h[\"Pontuação_Custo_Benefício\"].mean()]\n",
    "\n",
    "medias_df_sh = pd.Series(medias_df_sh)\n",
    "medias_df_h = pd.Series(medias_df_h)\n",
    "\n",
    "sub_medias = medias_df_sh-medias_df_h\n",
    "tx = sub_medias.mean()\n",
    "\n",
    "medias_df_sh_tx = medias_df_sh - tx\n",
    "dif = medias_df_sh_tx-medias_df_h\n",
    "\n",
    "rotulos = [\"Acurácia do Anúncio\", \"Limpeza\", \"Check-in\",\n",
    "          \"Comunicação\", \"Localização\", \"Custo Benefício\"]\n",
    "\n",
    "\n",
    "plt.figure(figsize=(8,4))\n",
    "plt.plot(rotulos,medias_df_sh_tx)\n",
    "plt.plot(rotulos,medias_df_h)\n",
    "plt.title(\"Comparação das Médias das Pontuações: SuperHost X Host\")\n",
    "plt.xticks(rotation=30)\n",
    "plt.tight_layout()\n",
    "plt.grid(axis='y')\n",
    "plt.ylim(4.5, 5.0)\n",
    "\n",
    "for i, label in enumerate(rotulos):\n",
    "    plt.text(i, dif[i]+4.79, f\"{dif[i]:.2f}\", ha='center', va='bottom', fontsize=8, color='blue')"
   ]
  },
  {
   "cell_type": "raw",
   "id": "8fac3365-203c-4132-9525-81dc3845f176",
   "metadata": {},
   "source": [
    "O gráfico acima ajusta as médias dos SuperHosts para permitir uma comparação mais equilibrada com os Hosts.  \n",
    "A análise do gráfico revela algumas observações importantes:  \n",
    "1. Localização tem um impacto maior para os Hosts (linha laranja) do que para os SuperHosts (linha azul).  \n",
    "2. Custo-benefício é mais relevante para os SuperHosts (linha azul) em comparação com os Hosts (linha laranja).  \n",
    "3. Acurácia do anúncio e comunicação apresentam pouca influência na distinção entre Hosts e SuperHosts."
   ]
  },
  {
   "cell_type": "code",
   "execution_count": 113,
   "id": "b2613388-8bd9-4bd5-bddc-2639b058d6f7",
   "metadata": {},
   "outputs": [
    {
     "data": {
      "image/png": "[encoded data removed]",
      "text/plain": [
       "<Figure size 1400x400 with 1 Axes>"
      ]
     },
     "metadata": {},
     "output_type": "display_data"
    }
   ],
   "source": [
    "# 3. Qual o ano que mais recebeu anfitriões que se tornaram SuperHost?\n",
    "\n",
    "df_sh = df[df[\"SuperHost_ou_Host\"] == \"Superhost\"].copy() # para que a nova coluna não modifique o df original\n",
    "df_sh[\"Data_Inicio_Host\"] = pd.to_datetime(df_sh[\"Data_Inicio_Host\"], dayfirst=True)\n",
    "\n",
    "df_sh[\"Ano_Inicio_Host\"] = df_sh[\"Data_Inicio_Host\"].dt.year #nova coluna\n",
    "\n",
    "plt.figure(figsize=(14,4))\n",
    "plt.tight_layout()\n",
    "plt.hist(df_sh[\"Ano_Inicio_Host\"], bins=range(2008, 2025), color='black', alpha=0.7, edgecolor='black', linewidth=1.2, align='left')\n",
    "plt.xticks(ticks=range(2008, 2024, 1));"
   ]
  },
  {
   "cell_type": "raw",
   "id": "36d850b1-cab5-4cce-826d-1b8a06aebd9d",
   "metadata": {},
   "source": [
    "Portanto, podemos concluir que 2015 foi o ano com o maior número de anfitriões no Airbnb que alcançaram o status de SuperHost."
   ]
  },
  {
   "cell_type": "code",
   "execution_count": 71,
   "id": "50b64ed6-718a-44c6-812c-1d8588498224",
   "metadata": {},
   "outputs": [
    {
     "name": "stdout",
     "output_type": "stream",
     "text": [
      "[4.400e+01 3.000e+00 1.000e+00 2.000e+00 6.000e+00 1.200e+01 5.000e+00\n",
      " 1.600e+02 4.000e+00 2.800e+01 9.000e+00 8.000e+00 7.000e+00 1.500e+01\n",
      " 1.400e+01 1.100e+01 4.800e+01 1.300e+01 1.600e+01 2.500e+01 1.000e+01\n",
      " 3.300e+01 3.400e+01 1.900e+01 1.270e+02 5.900e+01 1.800e+01 2.100e+01\n",
      " 3.700e+01 1.700e+01 4.300e+01 2.040e+02 1.460e+02 5.800e+01 5.200e+01\n",
      " 3.720e+02 3.500e+01 2.900e+01 2.700e+01 2.600e+01 1.260e+02 2.000e+01\n",
      " 4.000e+01 2.200e+01 7.800e+01 5.300e+01 1.610e+02 4.600e+01 6.400e+01\n",
      " 2.370e+02 4.900e+01 5.100e+01 6.100e+01 2.100e+02 4.050e+02 3.900e+01\n",
      " 2.400e+01 6.600e+01 3.200e+01 2.830e+02 7.040e+02 5.500e+01 3.960e+02\n",
      " 1.420e+02 2.750e+02 1.180e+02 1.110e+02 1.230e+02 5.000e+01 5.600e+01\n",
      " 2.680e+02 4.200e+01 1.120e+02 9.100e+01 9.700e+01 9.800e+01 6.800e+01\n",
      " 2.840e+02 2.130e+02 3.380e+02 1.390e+02 4.180e+02 8.900e+01 9.110e+02\n",
      " 1.272e+03 3.800e+01 6.660e+02 2.315e+03 4.100e+01 9.570e+02 5.521e+03\n",
      " 2.120e+02 9.900e+02 9.770e+02 3.180e+02 1.002e+03 2.430e+02 1.226e+03\n",
      " 7.020e+02 1.240e+02 1.085e+03 1.200e+02 1.015e+03 7.500e+01 3.100e+01\n",
      " 1.093e+03 7.300e+01 4.700e+01 7.080e+02 2.449e+03 2.910e+02 2.160e+02\n",
      " 4.370e+02 3.000e+01 1.050e+02 3.600e+01 1.300e+02 4.300e+02 2.300e+01\n",
      " 1.280e+02 7.000e+01 7.100e+01 7.680e+02 2.410e+02 1.450e+02 8.500e+01\n",
      " 1.430e+02 5.400e+01 1.250e+02 3.200e+02 7.600e+01 1.038e+03 7.700e+01\n",
      " 2.620e+02 5.676e+03 7.200e+01 2.090e+02 2.920e+02 1.220e+02 8.300e+01\n",
      " 6.720e+02 1.016e+03 3.730e+02 1.084e+03 1.680e+02 1.320e+02 2.350e+02\n",
      " 3.740e+02 1.400e+02 6.000e+01 2.200e+02 2.470e+02 8.000e+01 2.080e+02\n",
      " 4.440e+02 3.090e+02 8.320e+02 1.490e+02 2.820e+02 6.300e+01 2.500e+02\n",
      " 8.700e+01 1.030e+02 8.200e+01 6.200e+01 5.700e+01 2.140e+02 4.500e+01\n",
      " 4.460e+02 9.900e+01 6.790e+02 2.669e+03 6.365e+03 9.910e+02 3.750e+02\n",
      " 7.900e+01 1.037e+03 6.700e+01 1.252e+03 9.600e+01 1.570e+02 8.100e+01\n",
      " 1.710e+02 2.440e+02 2.560e+02 1.930e+02 4.380e+02 3.120e+02 8.710e+02\n",
      " 1.550e+02 2.950e+02 1.070e+02 1.010e+02 2.490e+02 1.170e+02 4.480e+02\n",
      " 7.400e+01 1.370e+02 6.830e+02 2.571e+03 7.243e+03 9.550e+02 1.267e+03\n",
      " 4.470e+02 6.900e+01 1.410e+02 9.750e+02 1.660e+02 1.035e+03 9.000e+01\n",
      " 1.253e+03 1.040e+02 4.120e+02 6.170e+02 1.377e+03 1.100e+02 8.540e+02\n",
      " 1.130e+02 9.200e+01 3.250e+02 1.150e+02 9.500e+01 1.190e+02 1.380e+02\n",
      " 5.400e+02 1.000e+02 3.290e+02 3.820e+02 4.570e+02 1.580e+02 1.760e+02\n",
      " 3.330e+02 2.020e+02 2.520e+02 1.160e+02 1.350e+02 1.720e+02 6.500e+01\n",
      " 1.340e+02 1.910e+02 1.640e+02 1.650e+02 8.800e+01 5.070e+02 6.600e+02\n",
      " 5.390e+02 2.530e+02 2.230e+02 1.820e+02 1.770e+02 1.520e+02 4.870e+02\n",
      " 1.360e+02 3.530e+02 1.990e+02 7.120e+02 8.400e+01 1.510e+02 1.830e+02\n",
      " 9.300e+01 1.730e+02 1.080e+02 3.450e+02 1.020e+02 1.530e+02 5.470e+02\n",
      " 4.040e+02 4.770e+02 1.870e+02 2.390e+02 1.210e+02 4.810e+02 1.480e+02\n",
      " 1.840e+02 1.790e+02 7.910e+02 1.091e+03 1.090e+02 2.180e+02 3.940e+02\n",
      " 3.119e+03 9.950e+02 5.640e+02 5.220e+02 2.510e+02 2.660e+02 4.740e+02\n",
      " 1.800e+02 3.130e+02 1.700e+02 1.780e+02 8.390e+02 1.500e+02 3.930e+02\n",
      " 1.330e+02 3.236e+03 3.620e+02 3.451e+03 1.440e+02 2.290e+02 3.527e+03\n",
      " 2.890e+02 1.290e+02 2.360e+02 1.470e+02 3.588e+03 3.619e+03 4.550e+02\n",
      " 7.030e+02 2.590e+02 1.140e+02 4.540e+02 8.600e+01 2.317e+03 5.280e+03\n",
      " 3.450e+03 1.147e+03 1.120e+03 8.660e+02 3.000e+02 9.440e+02 2.400e+02\n",
      " 3.830e+02 8.550e+02 6.460e+02 4.720e+02 7.650e+02 1.740e+02 2.421e+03\n",
      " 5.313e+03 3.526e+03 8.690e+02 2.340e+02 3.510e+02 1.063e+03 1.094e+03\n",
      " 1.060e+02 4.890e+02 8.260e+02 2.610e+02 4.990e+02 3.583e+03 2.663e+03\n",
      " 5.340e+03 3.440e+02 3.010e+02 1.003e+03 4.010e+02 1.139e+03 1.095e+03\n",
      " 7.770e+02 4.790e+02 4.020e+02 1.310e+02 5.130e+02 8.700e+02 1.750e+02\n",
      " 3.621e+03 2.575e+03 5.354e+03 1.001e+03 5.210e+02 4.450e+02 1.224e+03\n",
      " 4.280e+02 1.560e+02 3.240e+02 3.280e+02 4.170e+02 1.117e+03 1.414e+03\n",
      " 1.024e+03 4.290e+02 1.128e+03 3.880e+02 3.520e+02 4.160e+02 3.690e+02\n",
      " 4.000e+02 4.410e+02 1.170e+03 9.450e+02 2.330e+02 3.230e+02 3.920e+02\n",
      " 4.340e+02 4.490e+02 3.270e+02 1.022e+03 7.640e+02]\n"
     ]
    }
   ],
   "source": [
    "# 4. Se uma pessoa tem mais de um imóvel, ela tem mais chance de ser superhost?\n",
    "\n",
    "# df_sh = df[df[\"SuperHost_ou_Host\"] == \"Superhost\"]\n",
    "# df_h = df[df[\"SuperHost_ou_Host\"] == \"Host\"]\n",
    "print(df['Quantidade_Propriedades_do_Host'].unique())\n"
   ]
  }
 ],
 "metadata": {
  "kernelspec": {
   "display_name": "Python 3 (ipykernel)",
   "language": "python",
   "name": "python3"
  },
  "language_info": {
   "codemirror_mode": {
    "name": "ipython",
    "version": 3
   },
   "file_extension": ".py",
   "mimetype": "text/x-python",
   "name": "python",
   "nbconvert_exporter": "python",
   "pygments_lexer": "ipython3",
   "version": "3.12.8"
  }
 },
 "nbformat": 4,
 "nbformat_minor": 5
}
